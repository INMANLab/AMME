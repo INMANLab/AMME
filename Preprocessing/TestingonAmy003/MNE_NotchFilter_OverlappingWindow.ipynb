{
 "cells": [
  {
   "cell_type": "markdown",
   "metadata": {},
   "source": [
    "Filtering Signals with overlapping window using MNE Notch Filter"
   ]
  },
  {
   "cell_type": "code",
   "execution_count": null,
   "metadata": {},
   "outputs": [],
   "source": [
    "from mne.filter import notch_filter\n",
    "\n",
    "def notch_filter_moving_window(data, movingwin,Fs,freqs, tau = 10, mt_bandwidth = 3):\n",
    "\n",
    "    data = data.T\n",
    "    N, C  = data.shape \n",
    "    Nwin = round(Fs * movingwin[0])  # Number of samples in window\n",
    "    Nstep = round(movingwin[1] * Fs)  # Number of samples to step through\n",
    "    Noverlap = Nwin - Nstep  # Number of points in overlap\n",
    "    p = 0.05/Nwin\n",
    "\n",
    "    x = np.arange(1, Noverlap + 1)\n",
    "    smooth = 1. / (1 + np.exp(-tau * (x - Noverlap / 2) / Noverlap))  # Sigmoidal function\n",
    "    # smooth = np.tile(smooth, (C, 1)).T  # Replicate for each channel\n",
    "\n",
    "    winstart = np.arange(0, N - Nwin, Nstep)\n",
    "    nw = len(winstart)  # Number of windows\n",
    "    datafit = np.zeros((winstart[nw-1]+Nwin, C))\n",
    "\n",
    "\n",
    "    for chIdx in range(0, C):\n",
    "        for n in range(0, nw):\n",
    "            indx = slice(winstart[n], winstart[n] + Nwin)\n",
    "            datawin = data[indx, chIdx]\n",
    "\n",
    "            # Apply notch filter to the window\n",
    "            datafitwin = mne.filter.notch_filter(x = datawin, Fs = Fs, freqs = freqs, \n",
    "                                                method='spectrum_fit', mt_bandwidth=mt_bandwidth, \n",
    "                                                p_value = p, verbose='WARNING')\n",
    "            if n==0:\n",
    "                datafitwin0 = datafitwin.copy()    \n",
    "            if n > 0:\n",
    "                # Apply smoothing effect to the overlapping region\n",
    "                datafitwinTemp = datafitwin.copy()\n",
    "                datafitwin[:Noverlap] = smooth * datafitwin[:Noverlap] + (1 - smooth) * datafitwin0[Nwin - Noverlap:Nwin]\n",
    "                datafitwin0 = datafitwinTemp.copy()\n",
    "\n",
    "            datafit[indx, chIdx] = datafitwin\n",
    "\n",
    "    return datafit"
   ]
  }
 ],
 "metadata": {
  "language_info": {
   "name": "python"
  }
 },
 "nbformat": 4,
 "nbformat_minor": 2
}
